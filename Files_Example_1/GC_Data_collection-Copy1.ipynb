{
 "cells": [
  {
   "cell_type": "code",
   "execution_count": 1,
   "id": "f1023e61",
   "metadata": {},
   "outputs": [
    {
     "name": "stderr",
     "output_type": "stream",
     "text": [
      "2023-06-16 10:26:13.742 WARNING matplotlib.font_manager: Matplotlib is building the font cache; this may take a moment.\n",
      "2023-06-16 10:26:13.884 INFO    matplotlib.font_manager: generated new fontManager\n"
     ]
    }
   ],
   "source": [
    "import os\n",
    "import pandas as pd\n",
    "import numpy as np\n",
    "import datetime\n",
    "import re\n",
    "import streamlit as st"
   ]
  },
  {
   "cell_type": "code",
   "execution_count": null,
   "id": "5e9d9c1e",
   "metadata": {},
   "outputs": [],
   "source": [
    "#Set the current directory for the kernel\n",
    "path = os.getcwd()\n",
    "files = os.listdir(path)\n",
    "files_xls = [f for f in files if f[-3:] == 'XLS']"
   ]
  },
  {
   "cell_type": "code",
   "execution_count": 2,
   "id": "5a243b25",
   "metadata": {},
   "outputs": [
    {
     "name": "stderr",
     "output_type": "stream",
     "text": [
      "2023-06-16 10:35:05.285 \n",
      "  \u001b[33m\u001b[1mWarning:\u001b[0m to view this Streamlit app on a browser, run it with the following\n",
      "  command:\n",
      "\n",
      "    streamlit run C:\\Users\\GadolS01\\AppData\\Local\\anaconda3\\lib\\site-packages\\ipykernel_launcher.py [ARGUMENTS]\n"
     ]
    }
   ],
   "source": [
    "uploaded_files = st.file_uploader(\"Choose a file\", accept_multiple_files=True)\n",
    "files_xls = [f for f in uploaded_files if f[-3:] == 'XLS']"
   ]
  },
  {
   "cell_type": "code",
   "execution_count": null,
   "id": "f677b60a",
   "metadata": {},
   "outputs": [],
   "source": [
    "#Set the file name pattern to sort the name through the code by date and time rather than sample number\n",
    "pattern = r'\\d{2}_\\d{2}_\\d{4}\\s\\d{2}_\\d{2}_\\d{2}'\n",
    "filename_datetime_list = []\n",
    "for filename in files_xls:\n",
    "    match = re.search(pattern, filename)\n",
    "    if match:\n",
    "        datetime_str = match.group()\n",
    "        datetime_obj = datetime.datetime.strptime(datetime_str, \"%d_%m_%Y %H_%M_%S\")\n",
    "        filename_datetime_list.append((filename, datetime_obj))\n",
    "\n",
    "# Sort the list of tuples based on the datetime object\n",
    "sorted_filename_datetime_list = sorted(filename_datetime_list, key=lambda x: x[1])\n",
    "sorted_filenames = [x[0] for x in sorted_filename_datetime_list]"
   ]
  },
  {
   "cell_type": "code",
   "execution_count": null,
   "id": "9289f24f",
   "metadata": {},
   "outputs": [],
   "source": [
    "#This part of the code creates a full DataFrame which contains all the data from every excel file by keeping \n",
    "#the data sorted by worksheet\n",
    "dfs = []\n",
    "for filename in sorted_filenames:\n",
    "    dfname = pd.ExcelFile(os.path.join(path, filename))\n",
    "    for items in dfname.sheet_names:\n",
    "        dfnew = pd.read_excel(dfname, sheet_name=items)\n",
    "        dfnew['filename'] = filename  # add a new column to identify the source file\n",
    "        dfs.append(dfnew)\n",
    "data = pd.concat(dfs, ignore_index=True)"
   ]
  },
  {
   "cell_type": "code",
   "execution_count": null,
   "id": "569c0d3b",
   "metadata": {},
   "outputs": [],
   "source": [
    "#This part of the script rearranges the data according to the filename and keeps only the information about the \n",
    "#second occurrance of Nitrogen, which is the one needed\n",
    "a = ['Hydrogen', 'Nitrogen', 'Carbon monoxide', 'Ethylene']\n",
    "data = data.groupby('filename',as_index=False, sort=False).apply(lambda x: x[x['Name'].isin(a)].drop_duplicates(subset='Name', keep='last'))\n",
    "data = data[['Name', 'Area', 'filename']].reset_index(drop=True)"
   ]
  },
  {
   "cell_type": "code",
   "execution_count": null,
   "id": "e788479d",
   "metadata": {},
   "outputs": [],
   "source": [
    "#UPDATE 1: Dealing with non-numerical data, such as N.D. which means the instrument does not detect the \n",
    "#target compound. If this piece of code is not run, the final table will be filled only with null values.\n",
    "data[\"Area\"] = data[\"Area\"].replace([\"N.D.\"], 0)\n",
    "data[\"Area\"] = pd.to_numeric(data[\"Area\"])"
   ]
  },
  {
   "cell_type": "code",
   "execution_count": null,
   "id": "c1d0a020",
   "metadata": {},
   "outputs": [],
   "source": [
    "#Target table generation\n",
    "pivot_table = data.pivot_table(index='filename', columns='Name', values='Area', sort=False)\n",
    "column_order = ['Hydrogen', 'Nitrogen', 'Carbon monoxide', 'Ethylene']\n",
    "pivot_table = pivot_table.reindex(columns=column_order)\n",
    "pivot_table.to_excel(\"GC_outputs.xlsx\")"
   ]
  }
 ],
 "metadata": {
  "kernelspec": {
   "display_name": "Python 3 (ipykernel)",
   "language": "python",
   "name": "python3"
  },
  "language_info": {
   "codemirror_mode": {
    "name": "ipython",
    "version": 3
   },
   "file_extension": ".py",
   "mimetype": "text/x-python",
   "name": "python",
   "nbconvert_exporter": "python",
   "pygments_lexer": "ipython3",
   "version": "3.10.9"
  }
 },
 "nbformat": 4,
 "nbformat_minor": 5
}
